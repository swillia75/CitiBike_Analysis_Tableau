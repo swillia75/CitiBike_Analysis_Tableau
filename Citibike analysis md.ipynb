{
 "cells": [
  {
   "cell_type": "markdown",
   "metadata": {},
   "source": [
    "Citi-Bike Analytics"
   ]
  },
  {
   "cell_type": "markdown",
   "metadata": {},
   "source": [
    "Phenomenon 1: Women make up 25% of customers\n",
    "Looking at the percent women customers per the total for the fifth year of operation shows that women only make up 25% of the total customer. The other visualizations point to the trends of both genders is the same. They prefer the same stations, days, and hours. Further investigation needs to be done to see what factors are keeping women from renting more bike. Possibly safety, the type of bikes, and maybe their work attire will not allow for bike riding. This looks like an opportunity to increase the customer base significantly. "
   ]
  },
  {
   "cell_type": "markdown",
   "metadata": {},
   "source": [
    "Phenomenon 2: The most popular start stations are in a small area where the salaries are high and where the most used end stations are located.\n",
    "The other unexpected phenomenon that was noticed was the most popular stations to start and end are in the same area. The average income of the area is greater than $81,000 per year. This probably leads to Sunday being the lowest rental day of the week. This show an opportunity to target lower income areas and out lying areas not around their work area. Looks like an opportunity to target recreational bike rentals on the weekend or run some lower prices in the low-income areas."
   ]
  }
 ],
 "metadata": {
  "kernelspec": {
   "display_name": "Python [conda env:PythonData]",
   "language": "python",
   "name": "conda-env-PythonData-py"
  },
  "language_info": {
   "codemirror_mode": {
    "name": "ipython",
    "version": 3
   },
   "file_extension": ".py",
   "mimetype": "text/x-python",
   "name": "python",
   "nbconvert_exporter": "python",
   "pygments_lexer": "ipython3",
   "version": "3.7.7"
  }
 },
 "nbformat": 4,
 "nbformat_minor": 4
}
